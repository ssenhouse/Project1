{
 "cells": [
  {
   "cell_type": "markdown",
   "id": "fffcb07b-8d1f-4b6d-88a3-c605635d88ba",
   "metadata": {},
   "source": [
    "# Client Input Module"
   ]
  },
  {
   "cell_type": "code",
   "execution_count": 2,
   "id": "6909cdf6-9520-4b38-9fb1-44abf9dcc81c",
   "metadata": {},
   "outputs": [
    {
     "name": "stdin",
     "output_type": "stream",
     "text": [
      "A. On a scale of 1(Risky Avoidant) - 4(Risky), how would your closest friend describe your risk tolerance? 4\n",
      "B. On a scale of 1(Risky Avoidant) - 4(Risky), how would you describe your risk tolerance? 4\n",
      "C. What would you rather:1. Take $1,000 in cash  2. A 50% chance at winning $5,000  3. A 25% chance at winning $10,000  4. A 5% chance at winning $100,000   4\n",
      "D. Define risk: 1. Loss 2. Uncertainty 3. Opportunity 4. Thrill  4\n",
      "E. How comfortable on a scale of 1(Not Comfortable) - 4(Very Comfortable)are you with investing your money into stocks? 4\n"
     ]
    },
    {
     "data": {
      "text/plain": [
       "1.0"
      ]
     },
     "execution_count": 2,
     "metadata": {},
     "output_type": "execute_result"
    }
   ],
   "source": [
    "# Function to assess client risk profile\n",
    "from clientprofile.client_risk_profile import client_risk_tolerance\n",
    "client_risk_tolerance()"
   ]
  },
  {
   "cell_type": "code",
   "execution_count": null,
   "id": "97e4959a-786e-4066-8755-b9abee1a56cf",
   "metadata": {},
   "outputs": [],
   "source": []
  },
  {
   "cell_type": "markdown",
   "id": "fbdfcba2",
   "metadata": {},
   "source": [
    "# Risk Parity Model"
   ]
  },
  {
   "cell_type": "code",
   "execution_count": null,
   "id": "341cd1c2",
   "metadata": {},
   "outputs": [],
   "source": [
    "# Import modules.\n",
    "import os\n",
    "import pandas as pd\n",
    "import numpy.random as rnd\n",
    "from dotenv import load_dotenv\n",
    "import requests\n",
    "import warnings\n",
    "import json\n",
    "import sqlalchemy as sql\n",
    "from pathlib import Path\n",
    "import datetime\n",
    "import yfinance as yf\n",
    "warnings.filterwarnings('ignore')\n",
    "\n",
    "warnings.filterwarnings(\"ignore\")\n",
    "pd.options.display.float_format = '{:.4%}'.format\n",
    "\n",
    "# Date range\n",
    "today = datetime.date.today()\n",
    "start_date = today - datetime.timedelta(days=252*5) #trading days(252) * amount of years to go back \n",
    "\n",
    "start = start_date.strftime(\"%Y-%m-%d\")\n",
    "end = today.strftime(\"%Y-%m-%d\")\n",
    "\n",
    "# Tickers of assets\n",
    "assets = [\"XLC\", \"XLY\", \"XLP\", \"XLE\", \"XLF\", \"XLV\", \"XLI\", \"XLB\", \"XLRE\", \"XLK\", \"XLU\", \"AAPL\", \"MSFT\", \"NVDA\", \"AMZN\", \"BRK-B\",\n",
    "         \"GOOG\", \"META\", \"UNH\", \"XOM\", \"AGG\", \"BND\", \"LQD\", \"VCIT\", \"BNDX\", \"TMF\", \"TLT\", \"ICVT\", \"LKOR\", \"FBND\"]\n",
    "assets.sort()\n",
    "\n",
    "# Downloading data\n",
    "og_data = yf.download(assets, start = start, end = end)\n",
    "data = og_data.loc[:,('Adj Close', slice(None))]\n",
    "data.columns = assets\n",
    "\n",
    "Y = data[assets].pct_change().dropna()\n",
    "\n",
    "display(start)\n",
    "display(end)\n",
    "display(Y)"
   ]
  },
  {
   "cell_type": "code",
   "execution_count": null,
   "id": "e8857272-130a-4e9c-af5c-1d68967774e7",
   "metadata": {
    "jp-MarkdownHeadingCollapsed": true,
    "tags": []
   },
   "outputs": [],
   "source": [
    "x = float(input())\n",
    "\n",
    "if (x >= 0) and (x < 0.25):\n",
    "    fear_factor = 10000\n",
    "    print(fear_factor)\n",
    "\n",
    "elif (x >= 0.25) and (x < 0.5):\n",
    "        fear_factor = 3500\n",
    "        print(fear_factor)\n",
    "\n",
    "elif (x >= 0.5) and (x <= 0.75):\n",
    "        fear_factor = 2.5\n",
    "        print(fear_factor)\n",
    "else:\n",
    "    if (x >= 0.75) and (x <= 1):\n",
    "        fear_factor = 0\n",
    "        print(fear_factor)\n",
    "    else:\n",
    "        print(f\"Number isn't between 0 and 1\")\n",
    "       "
   ]
  },
  {
   "cell_type": "code",
   "execution_count": null,
   "id": "d1e1f4e7",
   "metadata": {},
   "outputs": [],
   "source": [
    "import riskfolio as rp\n",
    "\n",
    "# Building the portfolio object\n",
    "port = rp.Portfolio(returns=Y)\n",
    "\n",
    "# Calculating optimal portfolio\n",
    "\n",
    "# Select method and estimate input parameters:\n",
    "\n",
    "method_mu='hist' # Method to estimate expected returns based on historical data.\n",
    "method_cov='hist' # Method to estimate covariance matrix based on historical data.\n",
    "\n",
    "port.assets_stats(method_mu=method_mu, method_cov=method_cov, d=0.94)\n",
    "\n",
    "# Estimate optimal portfolio:\n",
    "\n",
    "model='Classic' # Could be Classic (historical), BL (Black Litterman) or FM (Factor Model)\n",
    "rm = 'MV' # Risk measure used, this time will be variance\n",
    "obj = 'Utility' # Objective function, could be MinRisk, MaxRet, Utility or Sharpe\n",
    "hist = True # Use historical scenarios for risk measures that depend on scenarios\n",
    "rf = 0 # Risk free rate\n",
    "l = fear_factor # Risk aversion factor, only useful when obj is 'Utility'\n",
    "\n",
    "w = port.optimization(model=model, rm=rm, obj=obj, rf=rf, l=l, hist=hist)\n",
    "\n",
    "display(w.T)"
   ]
  },
  {
   "cell_type": "code",
   "execution_count": null,
   "id": "1223dd85",
   "metadata": {},
   "outputs": [],
   "source": [
    "print(fear_factor)"
   ]
  },
  {
   "cell_type": "code",
   "execution_count": null,
   "id": "c4d29ca1",
   "metadata": {},
   "outputs": [],
   "source": [
    "# Plotting the composition of the portfolio\n",
    "\n",
    "ax = rp.plot_pie(w=w, title='Risk Parity', others=0.05, nrow=25, cmap = \"tab20\",\n",
    "                 height=6, width=10, ax=None)"
   ]
  },
  {
   "cell_type": "code",
   "execution_count": null,
   "id": "6e32d992",
   "metadata": {},
   "outputs": [],
   "source": [
    "# Plotting the risk composition of the portfolio\n",
    "\n",
    "ax = rp.plot_risk_con(w, cov=port.cov, returns=port.returns, rm=rm, rf=0, alpha=0.01,\n",
    "                      color=\"tab:blue\", height=6, width=10, ax=None)"
   ]
  },
  {
   "cell_type": "code",
   "execution_count": null,
   "id": "0b6a6db7",
   "metadata": {},
   "outputs": [],
   "source": [
    "w.to_csv(Path(\"w.csv\"))"
   ]
  },
  {
   "cell_type": "code",
   "execution_count": null,
   "id": "96826e6a",
   "metadata": {},
   "outputs": [],
   "source": []
  },
  {
   "cell_type": "code",
   "execution_count": null,
   "id": "edd4e42e",
   "metadata": {},
   "outputs": [],
   "source": []
  },
  {
   "cell_type": "code",
   "execution_count": null,
   "id": "6f94aaf6",
   "metadata": {},
   "outputs": [],
   "source": []
  },
  {
   "cell_type": "code",
   "execution_count": null,
   "id": "a3448b4b",
   "metadata": {},
   "outputs": [],
   "source": []
  },
  {
   "cell_type": "code",
   "execution_count": null,
   "id": "bebdffe3",
   "metadata": {},
   "outputs": [],
   "source": []
  },
  {
   "cell_type": "code",
   "execution_count": null,
   "id": "fa6e6dfe",
   "metadata": {},
   "outputs": [],
   "source": []
  },
  {
   "cell_type": "code",
   "execution_count": null,
   "id": "8e20fc99",
   "metadata": {},
   "outputs": [],
   "source": []
  },
  {
   "cell_type": "code",
   "execution_count": null,
   "id": "53c4ca25",
   "metadata": {},
   "outputs": [],
   "source": []
  },
  {
   "cell_type": "code",
   "execution_count": null,
   "id": "ed4ae751",
   "metadata": {},
   "outputs": [],
   "source": []
  },
  {
   "cell_type": "code",
   "execution_count": null,
   "id": "4c7b0fe7",
   "metadata": {},
   "outputs": [],
   "source": []
  }
 ],
 "metadata": {
  "kernelspec": {
   "display_name": "Python 3 (ipykernel)",
   "language": "python",
   "name": "python3"
  },
  "language_info": {
   "codemirror_mode": {
    "name": "ipython",
    "version": 3
   },
   "file_extension": ".py",
   "mimetype": "text/x-python",
   "name": "python",
   "nbconvert_exporter": "python",
   "pygments_lexer": "ipython3",
   "version": "3.7.13"
  }
 },
 "nbformat": 4,
 "nbformat_minor": 5
}
