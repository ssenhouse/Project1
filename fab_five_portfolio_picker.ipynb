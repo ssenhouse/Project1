{
 "cells": [
  {
   "cell_type": "code",
   "execution_count": null,
   "id": "812112e1-3c7a-4476-9c65-7dd39079af6a",
   "metadata": {},
   "outputs": [],
   "source": [
    "# Questionary to determine client's risk profile Phill wants to work on this part\n",
    "\n",
    "import questionary\n",
    "import fire\n",
    "import pandas as pd\n",
    "def client_risk_tolerance_info():\n",
    "    close_friend = questionary.select(\n",
    "    \"On a scale of 1(Risky Avoidant) - 4(Risky), how would your closest friend describe your risk tolerance?\",\n",
    "    choices=[\n",
    "        \"1\",\n",
    "        \"2\",\n",
    "        \"3\",\n",
    "        \"4\"\n",
    "    ]).ask()\n",
    "    self_eval = questionary.select(\n",
    "    \"On a scale of 1(Risky Avoidant) - 4(Risky), how would you describe your risk tolerance?\",\n",
    "    choices=[\n",
    "        \"1\",\n",
    "        \"2\",\n",
    "        \"3\",\n",
    "        \"4\"\n",
    "    ]).ask()\n",
    "    would_you_rather = questionary.select(\n",
    "    \"What would you rather 1. Take $1,000 in cash  \"\n",
    "        \"2. A 50% chance at winning $5,000  \"\n",
    "        \"3. A 25% chance at winning $10,000  \"\n",
    "        \"4. A 5% chance at winning $100,000  \",\n",
    "    choices=[\n",
    "        \"1\",\n",
    "        \"2\",\n",
    "        \"3\",\n",
    "        \"4\"\n",
    "    ]).ask()\n",
    "    risk_define = questionary.select(\n",
    "    \"Define risk: 1. Loss \"\n",
    "        \"2. Uncertainty \"\n",
    "        \"3. Opportunity \"\n",
    "        \"4. Thrill \",\n",
    "    choices=[\n",
    "        \"1\",\n",
    "        \"2\",\n",
    "        \"3\",\n",
    "        \"4\"\n",
    "    ]).ask()\n",
    "    willingness = questionary.select(\n",
    "    \"How comfortable on a scale of 1(Not Comfortable) - 4(Very Comfortable)\"\n",
    "        \"are you with investing your money into stocks?\",\n",
    "    choices=[\n",
    "        \"1\",\n",
    "        \"2\",\n",
    "        \"3\",\n",
    "        \"4\"\n",
    "    ]).ask()\n",
    "    aggregate_risk_tolerance = sum([float(close_friend), float(self_eval), float(would_you_rather), float(risk_define), float(willingness)])\n",
    "    client_risk_tolerance = aggregate_risk_tolerance/20\n",
    "    return client_risk_tolerance\n",
    "client_risk_tolerance = client_risk_tolerance_info()\n",
    "print(client_risk_tolerance)# Data Analaytics sean kinda wants to do analytics"
   ]
  },
  {
   "cell_type": "code",
   "execution_count": null,
   "id": "c66bb909-9ca2-49d4-99f6-c411a5cce1c6",
   "metadata": {},
   "outputs": [],
   "source": []
  },
  {
   "cell_type": "code",
   "execution_count": null,
   "id": "200648bd-0a99-497f-9b55-ca52d6b532bc",
   "metadata": {},
   "outputs": [],
   "source": [
    "# Data Source  "
   ]
  },
  {
   "cell_type": "code",
   "execution_count": null,
   "id": "73893bdf-ef09-4dbf-bd7c-0a62e08fe4e7",
   "metadata": {},
   "outputs": [],
   "source": [
    "# Outputs and final reaporting sean really wants to do outputs"
   ]
  }
 ],
 "metadata": {
  "kernelspec": {
   "display_name": "Python 3 (ipykernel)",
   "language": "python",
   "name": "python3"
  },
  "language_info": {
   "codemirror_mode": {
    "name": "ipython",
    "version": 3
   },
   "file_extension": ".py",
   "mimetype": "text/x-python",
   "name": "python",
   "nbconvert_exporter": "python",
   "pygments_lexer": "ipython3",
   "version": "3.7.13"
  }
 },
 "nbformat": 4,
 "nbformat_minor": 5
}
