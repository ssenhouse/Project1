{
 "cells": [
  {
   "cell_type": "code",
   "execution_count": null,
   "id": "3ffcea31-9b06-4954-893f-2e04f709ba2a",
   "metadata": {},
   "outputs": [],
   "source": [
    "# Input Questionary "
   ]
  },
  {
   "cell_type": "code",
   "execution_count": null,
   "id": "200648bd-0a99-497f-9b55-ca52d6b532bc",
   "metadata": {},
   "outputs": [],
   "source": [
    "# Data Source  "
   ]
  },
  {
   "cell_type": "code",
   "execution_count": null,
   "id": "812112e1-3c7a-4476-9c65-7dd39079af6a",
   "metadata": {},
   "outputs": [],
   "source": [
    "# Data Analaytics"
   ]
  },
  {
   "cell_type": "code",
   "execution_count": null,
   "id": "73893bdf-ef09-4dbf-bd7c-0a62e08fe4e7",
   "metadata": {},
   "outputs": [],
   "source": [
    "# Outputs  and final reaporting"
   ]
  }
 ],
 "metadata": {
  "kernelspec": {
   "display_name": "Python 3 (ipykernel)",
   "language": "python",
   "name": "python3"
  },
  "language_info": {
   "codemirror_mode": {
    "name": "ipython",
    "version": 3
   },
   "file_extension": ".py",
   "mimetype": "text/x-python",
   "name": "python",
   "nbconvert_exporter": "python",
   "pygments_lexer": "ipython3",
   "version": "3.7.13"
  }
 },
 "nbformat": 4,
 "nbformat_minor": 5
}
