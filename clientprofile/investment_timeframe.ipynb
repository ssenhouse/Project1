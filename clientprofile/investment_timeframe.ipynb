{
 "cells": [
  {
   "cell_type": "code",
   "execution_count": 1,
   "id": "f43aa979-ae11-4b82-8f1e-4eee33eda728",
   "metadata": {},
   "outputs": [],
   "source": [
    "#module to ask desiredtimeframe to invest\"\n",
    "#please copy and paste into main app#"
   ]
  },
  {
   "cell_type": "code",
   "execution_count": 2,
   "id": "8cbc1bdd-541f-4afc-8f4b-926cae9d0ba7",
   "metadata": {},
   "outputs": [
    {
     "name": "stdin",
     "output_type": "stream",
     "text": [
      "What is the desired timeframe(in # of years) for your investment? 4\n"
     ]
    }
   ],
   "source": [
    "#ask user for desired timeframe and ensure it is a float value#\n",
    "\n",
    "investment_timeframe = input(\"What is the desired timeframe(in # of years) for your investment?\")\n",
    "investment_timeframe = float(investment_timeframe)\n",
    "\n"
   ]
  },
  {
   "cell_type": "code",
   "execution_count": 3,
   "id": "de887419-c9c1-4e69-87e9-87d085687ec2",
   "metadata": {},
   "outputs": [
    {
     "data": {
      "text/plain": [
       "float"
      ]
     },
     "execution_count": 3,
     "metadata": {},
     "output_type": "execute_result"
    }
   ],
   "source": [
    "#to doublecheck that the variable returns as a float#\n",
    "type(investment_timeframe)\n"
   ]
  }
 ],
 "metadata": {
  "kernelspec": {
   "display_name": "Python 3 (ipykernel)",
   "language": "python",
   "name": "python3"
  },
  "language_info": {
   "codemirror_mode": {
    "name": "ipython",
    "version": 3
   },
   "file_extension": ".py",
   "mimetype": "text/x-python",
   "name": "python",
   "nbconvert_exporter": "python",
   "pygments_lexer": "ipython3",
   "version": "3.7.13"
  }
 },
 "nbformat": 4,
 "nbformat_minor": 5
}
