{
 "cells": [
  {
   "cell_type": "code",
   "execution_count": 1,
   "id": "345a34db-530c-4090-8f1c-d74f9f10f42e",
   "metadata": {},
   "outputs": [],
   "source": [
    "def client_risk_tolerance_info():   \n",
    "    \n",
    "    close_friend = input(\"A. On a scale of 1(Risky Avoidant) - 4(Risky), how would your closest friend describe your risk tolerance?\")\n",
    "    close_friend =int(close_friend)\n",
    "    \n",
    "    self_eval = input(\"B. On a scale of 1(Risky Avoidant) - 4(Risky), how would you describe your risk tolerance?\")        \n",
    "    self_eval = int(self_eval)\n",
    "    \n",
    "    would_you_rather = input(\"C. What would you rather:\" \n",
    "    \"1. Take $1,000 in cash  \"\n",
    "    \"2. A 50% chance at winning $5,000  \"\n",
    "    \"3. A 25% chance at winning $10,000  \"\n",
    "     \"4. A 5% chance at winning $100,000  \")\n",
    "    would_you_rather = int(would_you_rather)\n",
    "    \n",
    "    risk_define = input(\n",
    "    \"D. Define risk: 1. Loss \"\n",
    "        \"2. Uncertainty \"\n",
    "        \"3. Opportunity \"\n",
    "        \"4. Thrill \")\n",
    "    risk_define = int(risk_define)\n",
    "    \n",
    "    willingness = input(\"E. How comfortable on a scale of 1(Not Comfortable) - 4(Very Comfortable)\"\n",
    "        \"are you with investing your money into stocks?\")\n",
    "    willingness = int(willingness)\n",
    "        \n",
    "    return close_friend, self_eval, would_you_rather, risk_define, willingness\n",
    "        \n",
    "    "
   ]
  },
  {
   "cell_type": "code",
   "execution_count": 2,
   "id": "f8a53d3d-9e97-4cc4-bc29-63a116758f38",
   "metadata": {},
   "outputs": [
    {
     "name": "stdin",
     "output_type": "stream",
     "text": [
      "A. On a scale of 1(Risky Avoidant) - 4(Risky), how would your closest friend describe your risk tolerance? 4\n",
      "B. On a scale of 1(Risky Avoidant) - 4(Risky), how would you describe your risk tolerance? 4\n",
      "C. What would you rather:1. Take $1,000 in cash  2. A 50% chance at winning $5,000  3. A 25% chance at winning $10,000  4. A 5% chance at winning $100,000   2\n",
      "D. Define risk: 1. Loss 2. Uncertainty 3. Opportunity 4. Thrill  4\n",
      "E. How comfortable on a scale of 1(Not Comfortable) - 4(Very Comfortable)are you with investing your money into stocks? 4\n"
     ]
    },
    {
     "data": {
      "text/plain": [
       "(4, 4, 2, 4, 4)"
      ]
     },
     "execution_count": 2,
     "metadata": {},
     "output_type": "execute_result"
    }
   ],
   "source": [
    "#test function#\n",
    "client_risk_tolerance_info()"
   ]
  },
  {
   "cell_type": "code",
   "execution_count": 3,
   "id": "eac868b2-4586-44bb-a6cd-f92536f6e7c5",
   "metadata": {},
   "outputs": [],
   "source": [
    "def aggregate_client_score():\n",
    "    close_friend, self_eval, would_you_rather, risk_define, willingness = client_risk_tolerance_info()\n",
    "    return sum([close_friend, self_eval, would_you_rather, risk_define, willingness])\n",
    "    "
   ]
  },
  {
   "cell_type": "code",
   "execution_count": 4,
   "id": "8991ed3f-f253-44f4-a4a7-b4d7a978a076",
   "metadata": {
    "tags": []
   },
   "outputs": [
    {
     "name": "stdin",
     "output_type": "stream",
     "text": [
      "A. On a scale of 1(Risky Avoidant) - 4(Risky), how would your closest friend describe your risk tolerance? 4\n",
      "B. On a scale of 1(Risky Avoidant) - 4(Risky), how would you describe your risk tolerance? 4\n",
      "C. What would you rather:1. Take $1,000 in cash  2. A 50% chance at winning $5,000  3. A 25% chance at winning $10,000  4. A 5% chance at winning $100,000   4\n",
      "D. Define risk: 1. Loss 2. Uncertainty 3. Opportunity 4. Thrill  4\n",
      "E. How comfortable on a scale of 1(Not Comfortable) - 4(Very Comfortable)are you with investing your money into stocks? 4\n"
     ]
    },
    {
     "data": {
      "text/plain": [
       "20"
      ]
     },
     "execution_count": 4,
     "metadata": {},
     "output_type": "execute_result"
    }
   ],
   "source": [
    "#test function#\n",
    "\n",
    "aggregate_client_score()"
   ]
  },
  {
   "cell_type": "code",
   "execution_count": 5,
   "id": "9c441af8-49c6-41db-9d96-1e26a2783ca1",
   "metadata": {},
   "outputs": [],
   "source": [
    "def client_risk_tolerance():\n",
    "    risk_sum = aggregate_client_score()\n",
    "    if isinstance(risk_sum, int) and 1 <= risk_sum <= 20:\n",
    "        return risk_sum / 20\n",
    "    else:\n",
    "        return print(\"Your answers are not applicable, please input a value between 1-4 for each question\")"
   ]
  },
  {
   "cell_type": "code",
   "execution_count": 6,
   "id": "15d3bbf0-e527-4a15-b0a8-9fb618403fb7",
   "metadata": {},
   "outputs": [
    {
     "name": "stdin",
     "output_type": "stream",
     "text": [
      "A. On a scale of 1(Risky Avoidant) - 4(Risky), how would your closest friend describe your risk tolerance? 4\n",
      "B. On a scale of 1(Risky Avoidant) - 4(Risky), how would you describe your risk tolerance? 4\n",
      "C. What would you rather:1. Take $1,000 in cash  2. A 50% chance at winning $5,000  3. A 25% chance at winning $10,000  4. A 5% chance at winning $100,000   4\n",
      "D. Define risk: 1. Loss 2. Uncertainty 3. Opportunity 4. Thrill  4\n",
      "E. How comfortable on a scale of 1(Not Comfortable) - 4(Very Comfortable)are you with investing your money into stocks? 4\n"
     ]
    },
    {
     "data": {
      "text/plain": [
       "1.0"
      ]
     },
     "execution_count": 6,
     "metadata": {},
     "output_type": "execute_result"
    }
   ],
   "source": [
    "### test function#\n",
    "\n",
    "client_risk_tolerance()"
   ]
  },
  {
   "cell_type": "code",
   "execution_count": null,
   "id": "291ec11b-0521-4e87-95af-51047fdaeb9d",
   "metadata": {},
   "outputs": [],
   "source": []
  },
  {
   "cell_type": "code",
   "execution_count": null,
   "id": "c9ef54c0-2180-40f0-91e8-e281d77d63ad",
   "metadata": {},
   "outputs": [],
   "source": []
  }
 ],
 "metadata": {
  "kernelspec": {
   "display_name": "Python 3 (ipykernel)",
   "language": "python",
   "name": "python3"
  },
  "language_info": {
   "codemirror_mode": {
    "name": "ipython",
    "version": 3
   },
   "file_extension": ".py",
   "mimetype": "text/x-python",
   "name": "python",
   "nbconvert_exporter": "python",
   "pygments_lexer": "ipython3",
   "version": "3.7.13"
  }
 },
 "nbformat": 4,
 "nbformat_minor": 5
}
