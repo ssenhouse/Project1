{
 "cells": [
  {
   "cell_type": "code",
   "execution_count": 19,
   "id": "93802dfd-b86e-4714-9e45-1234233b8c0b",
   "metadata": {},
   "outputs": [],
   "source": [
    "from client_risk_profile import client_risk_tolerance"
   ]
  },
  {
   "cell_type": "code",
   "execution_count": 5,
   "id": "016af876-678e-49e4-a356-34eddbf5d38d",
   "metadata": {},
   "outputs": [
    {
     "name": "stdin",
     "output_type": "stream",
     "text": [
      "A. On a scale of 1(Risky Avoidant) - 4(Risky), how would your closest friend describe your risk tolerance? 5\n",
      "B. On a scale of 1(Risky Avoidant) - 4(Risky), how would you describe your risk tolerance? 8\n",
      "C. What would you rather:1. Take $1,000 in cash  2. A 50% chance at winning $5,000  3. A 25% chance at winning $10,000  4. A 5% chance at winning $100,000   9\n",
      "D. Define risk: 1. Loss 2. Uncertainty 3. Opportunity 4. Thrill  9\n",
      "E. How comfortable on a scale of 1(Not Comfortable) - 4(Very Comfortable)are you with investing your money into stocks? 8\n"
     ]
    },
    {
     "name": "stdout",
     "output_type": "stream",
     "text": [
      "Your answers are not applicable, please input a value between 1-4 for each question\n"
     ]
    }
   ],
   "source": [
    "client_risk_tolerance()"
   ]
  },
  {
   "cell_type": "code",
   "execution_count": null,
   "id": "14abe8d8-aa39-4d8f-950b-7decafcc0cf8",
   "metadata": {},
   "outputs": [],
   "source": []
  }
 ],
 "metadata": {
  "kernelspec": {
   "display_name": "Python (dev)",
   "language": "python",
   "name": "dev"
  },
  "language_info": {
   "codemirror_mode": {
    "name": "ipython",
    "version": 3
   },
   "file_extension": ".py",
   "mimetype": "text/x-python",
   "name": "python",
   "nbconvert_exporter": "python",
   "pygments_lexer": "ipython3",
   "version": "3.7.13"
  }
 },
 "nbformat": 4,
 "nbformat_minor": 5
}
