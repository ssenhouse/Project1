{
 "cells": [
  {
   "cell_type": "code",
   "execution_count": 2,
   "id": "c3e0e7a1-bfd3-4959-ad5c-bd922b5d3b38",
   "metadata": {},
   "outputs": [],
   "source": [
    "# Import the required libraries and dependencies\n",
    "import os\n",
    "import requests\n",
    "import json\n",
    "import pandas as pd\n",
    "from dotenv import load_dotenv\n",
    "import alpaca_trade_api as tradeapi\n",
    "#from MCForecastTools import MCSimulation"
   ]
  },
  {
   "cell_type": "code",
   "execution_count": 3,
   "id": "6ff07157-30ac-40f2-a2a9-44d092b675a9",
   "metadata": {},
   "outputs": [
    {
     "data": {
      "text/plain": [
       "True"
      ]
     },
     "execution_count": 3,
     "metadata": {},
     "output_type": "execute_result"
    }
   ],
   "source": [
    "# Load the environment variables from the .env file\n",
    "#by calling the load_dotenv function\n",
    "load_dotenv('api.env')"
   ]
  },
  {
   "cell_type": "code",
   "execution_count": 8,
   "id": "fc39b19b-e6fa-48ba-ab4f-1ba75bd7395d",
   "metadata": {},
   "outputs": [
    {
     "name": "stdout",
     "output_type": "stream",
     "text": [
      "<class 'str'>\n"
     ]
    }
   ],
   "source": [
    "# Set Crypto Compare API key and secret\n",
    "crypto_compare_api_key = os.getenv(\"CRYPTO_COMPARE_API_KEY\")\n",
    "# Test api key is loaded\n",
    "print(f'{type(crypto_compare_api_key)}') "
   ]
  },
  {
   "cell_type": "code",
   "execution_count": 25,
   "id": "7eafc035-16a5-4325-a5a9-e950bc701a30",
   "metadata": {},
   "outputs": [],
   "source": [
    "url = f\"https://min-api.cryptocompare.com/data/top/exchanges/full?fsym=BTC&tsym=USD{crypto_compare_api_key}\""
   ]
  },
  {
   "cell_type": "code",
   "execution_count": 26,
   "id": "6da4c3ae-941d-4b73-9226-86cea3a9e495",
   "metadata": {},
   "outputs": [
    {
     "data": {
      "text/plain": [
       "'https://min-api.cryptocompare.com/data/top/exchanges/full?fsym=BTC&tsym=USDc09c9935866dc2c727a18c6cf4dd345c380e4bac5689fd27f6a9424fe955b0c4'"
      ]
     },
     "execution_count": 26,
     "metadata": {},
     "output_type": "execute_result"
    }
   ],
   "source": [
    "url"
   ]
  },
  {
   "cell_type": "code",
   "execution_count": 27,
   "id": "5d6322fb-1140-4c3f-93b8-ddf2f4f7c52c",
   "metadata": {},
   "outputs": [],
   "source": [
    "response = requests.get(url).json()"
   ]
  },
  {
   "cell_type": "code",
   "execution_count": 28,
   "id": "0c05c231-4d9f-44ca-9f3e-22d8657d0785",
   "metadata": {},
   "outputs": [
    {
     "name": "stdout",
     "output_type": "stream",
     "text": [
      "{'Response': 'Error', 'Message': 'tsym param is invalid. (tsym length is higher than maxlength: 30)', 'HasWarning': False, 'Type': 2, 'RateLimit': {}, 'Data': {}, 'ParamWithError': 'tsym'}\n"
     ]
    }
   ],
   "source": [
    "print(f'{response}')"
   ]
  },
  {
   "cell_type": "code",
   "execution_count": null,
   "id": "2d08185b-1268-4953-abee-557e20eae149",
   "metadata": {},
   "outputs": [],
   "source": []
  }
 ],
 "metadata": {
  "kernelspec": {
   "display_name": "Python 3 (ipykernel)",
   "language": "python",
   "name": "python3"
  },
  "language_info": {
   "codemirror_mode": {
    "name": "ipython",
    "version": 3
   },
   "file_extension": ".py",
   "mimetype": "text/x-python",
   "name": "python",
   "nbconvert_exporter": "python",
   "pygments_lexer": "ipython3",
   "version": "3.7.13"
  }
 },
 "nbformat": 4,
 "nbformat_minor": 5
}
